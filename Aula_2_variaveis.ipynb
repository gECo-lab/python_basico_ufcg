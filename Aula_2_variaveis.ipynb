{
 "cells": [
  {
   "cell_type": "markdown",
   "metadata": {},
   "source": [
    "<img src=\"files/figs/logo_ufcg.png\" width=150 align=\"right\"/>   <H1> Python Básico (para economistas) <H1/> <H5> Sérgio Rivero<H5/> Economia CH-UFCG"
   ]
  },
  {
   "cell_type": "markdown",
   "metadata": {},
   "source": [
    "# Variáveis, Expressões, Instruções"
   ]
  },
  {
   "cell_type": "markdown",
   "metadata": {},
   "source": [
    "## Variáveis e Atribuições\n",
    "\n",
    "Uma linguagem de programação tem a capacidade de criar, armazenar  e manipular **variáveis**\n",
    "\n",
    "\n",
    "### Atribuição\n",
    "\n",
    "Uma variável é um *nome* ao qual se atribui um *valor* que é armazenado em um espaço na memória do seu computador.\n",
    "\n",
    "Para criar e dar valor a uma variável, utilizamos uma **instrução de atribuição**\n",
    "\n",
    "Exemplo:\n"
   ]
  },
  {
   "cell_type": "code",
   "execution_count": 4,
   "metadata": {},
   "outputs": [],
   "source": [
    "mensagem = \"Aqui é a minha primeira operação de atribuição\""
   ]
  },
  {
   "cell_type": "code",
   "execution_count": 5,
   "metadata": {},
   "outputs": [
    {
     "data": {
      "text/plain": [
       "'Aqui é a minha primeira operação de atribuição'"
      ]
     },
     "execution_count": 5,
     "metadata": {},
     "output_type": "execute_result"
    }
   ],
   "source": [
    "mensagem"
   ]
  },
  {
   "cell_type": "code",
   "execution_count": 6,
   "metadata": {},
   "outputs": [],
   "source": [
    "n = 13"
   ]
  },
  {
   "cell_type": "code",
   "execution_count": 7,
   "metadata": {},
   "outputs": [],
   "source": [
    "distancia = 123.1241"
   ]
  },
  {
   "cell_type": "markdown",
   "metadata": {},
   "source": [
    "Nas 3 operações da atribuição acima:\n",
    "    \n",
    "* fizemos primeiro a atribuição de um texto (uma cadeia de caracteres) a uma variável que chamamos de *mensagem*\n",
    "* Depois atribuímos o número inteiro 13 à variável *n*\n",
    "* Finalmente criamos uma variável *distancia* à qual atribuimos o valor não inteiro *123.1241*\n",
    "\n",
    "Note:\n",
    "    * As varáveis serão de **tipos** diferentes, isso implicará nos tipos de operação que você pode fazer com elas.\n",
    "    * O separador de decimal na nossa linguagem é  **'.'** e não  **'.'**\n",
    "  \n",
    "Se olharmos estas variáveis no nosso interpretador *Python* teremos\n"
   ]
  },
  {
   "cell_type": "code",
   "execution_count": 8,
   "metadata": {},
   "outputs": [
    {
     "data": {
      "text/plain": [
       "'Aqui é a minha primeira operação de atribuição'"
      ]
     },
     "execution_count": 8,
     "metadata": {},
     "output_type": "execute_result"
    }
   ],
   "source": [
    "mensagem"
   ]
  },
  {
   "cell_type": "code",
   "execution_count": 9,
   "metadata": {},
   "outputs": [
    {
     "data": {
      "text/plain": [
       "13"
      ]
     },
     "execution_count": 9,
     "metadata": {},
     "output_type": "execute_result"
    }
   ],
   "source": [
    "n"
   ]
  },
  {
   "cell_type": "code",
   "execution_count": 10,
   "metadata": {},
   "outputs": [
    {
     "data": {
      "text/plain": [
       "123.1241"
      ]
     },
     "execution_count": 10,
     "metadata": {},
     "output_type": "execute_result"
    }
   ],
   "source": [
    "distancia"
   ]
  },
  {
   "cell_type": "markdown",
   "metadata": {},
   "source": [
    "Olhando para os *tipos* destas variáveis, temos:"
   ]
  },
  {
   "cell_type": "code",
   "execution_count": 11,
   "metadata": {},
   "outputs": [
    {
     "data": {
      "text/plain": [
       "str"
      ]
     },
     "execution_count": 11,
     "metadata": {},
     "output_type": "execute_result"
    }
   ],
   "source": [
    "type(mensagem)"
   ]
  },
  {
   "cell_type": "code",
   "execution_count": 12,
   "metadata": {},
   "outputs": [
    {
     "data": {
      "text/plain": [
       "int"
      ]
     },
     "execution_count": 12,
     "metadata": {},
     "output_type": "execute_result"
    }
   ],
   "source": [
    "type(n)"
   ]
  },
  {
   "cell_type": "code",
   "execution_count": 13,
   "metadata": {},
   "outputs": [
    {
     "data": {
      "text/plain": [
       "float"
      ]
     },
     "execution_count": 13,
     "metadata": {},
     "output_type": "execute_result"
    }
   ],
   "source": [
    "type(distancia)"
   ]
  },
  {
   "cell_type": "code",
   "execution_count": 14,
   "metadata": {},
   "outputs": [],
   "source": [
    "resposta = True"
   ]
  },
  {
   "cell_type": "code",
   "execution_count": 15,
   "metadata": {},
   "outputs": [
    {
     "data": {
      "text/plain": [
       "bool"
      ]
     },
     "execution_count": 15,
     "metadata": {},
     "output_type": "execute_result"
    }
   ],
   "source": [
    "type(resposta)"
   ]
  },
  {
   "cell_type": "code",
   "execution_count": 37,
   "metadata": {},
   "outputs": [],
   "source": [
    "cadastro = {}\n",
    "outro_cadastro = \"\""
   ]
  },
  {
   "cell_type": "code",
   "execution_count": 38,
   "metadata": {},
   "outputs": [
    {
     "name": "stdout",
     "output_type": "stream",
     "text": [
      "<class 'dict'>\n",
      "<class 'str'>\n"
     ]
    }
   ],
   "source": [
    "print(type(cadastro))\n",
    "print(type(outro_cadastro))"
   ]
  },
  {
   "cell_type": "code",
   "execution_count": 39,
   "metadata": {},
   "outputs": [
    {
     "ename": "TypeError",
     "evalue": "'str' object does not support item assignment",
     "output_type": "error",
     "traceback": [
      "\u001b[0;31m---------------------------------------------------------------------------\u001b[0m",
      "\u001b[0;31mTypeError\u001b[0m                                 Traceback (most recent call last)",
      "Cell \u001b[0;32mIn [39], line 4\u001b[0m\n\u001b[1;32m      2\u001b[0m cadastro[\u001b[39m2\u001b[39m] \u001b[39m=\u001b[39m \u001b[39m\"\u001b[39m\u001b[39mMaria\u001b[39m\u001b[39m\"\u001b[39m\n\u001b[1;32m      3\u001b[0m cadastro[\u001b[39m3\u001b[39m] \u001b[39m=\u001b[39m \u001b[39m\"\u001b[39m\u001b[39mJosé\u001b[39m\u001b[39m\"\u001b[39m\n\u001b[0;32m----> 4\u001b[0m outro_cadastro[\u001b[39m1\u001b[39;49m] \u001b[39m=\u001b[39m \u001b[39m\"\u001b[39m\u001b[39mFrancisco\u001b[39m\u001b[39m\"\u001b[39m\n",
      "\u001b[0;31mTypeError\u001b[0m: 'str' object does not support item assignment"
     ]
    }
   ],
   "source": [
    "cadastro[1] = \"Joao\"\n",
    "cadastro[2] = \"Maria\"\n",
    "cadastro[3] = \"José\"\n",
    "outro_cadastro[1] = \"Francisco\""
   ]
  },
  {
   "cell_type": "code",
   "execution_count": 29,
   "metadata": {},
   "outputs": [
    {
     "data": {
      "text/plain": [
       "{1: 'Joao', 2: 'Maria', 3: 'José'}"
      ]
     },
     "execution_count": 29,
     "metadata": {},
     "output_type": "execute_result"
    }
   ],
   "source": [
    "cadastro"
   ]
  },
  {
   "cell_type": "code",
   "execution_count": 33,
   "metadata": {},
   "outputs": [
    {
     "name": "stdout",
     "output_type": "stream",
     "text": [
      "<class 'int'>\n",
      "<class 'float'>\n",
      "<class 'bool'>\n",
      "<class 'dict'>\n"
     ]
    }
   ],
   "source": [
    "print(type(n))\n",
    "print(type(distancia))\n",
    "print(type(resposta))\n",
    "print(type(cadastro))"
   ]
  },
  {
   "cell_type": "code",
   "execution_count": 36,
   "metadata": {},
   "outputs": [
    {
     "name": "stdout",
     "output_type": "stream",
     "text": [
      "<class 'str'>\n",
      "Joao\n",
      "{1: 'Joao', 2: 'Maria', 3: 'José', 4: 1234}\n",
      "<class 'int'>\n"
     ]
    }
   ],
   "source": [
    "print(type(cadastro[1]))\n",
    "print(cadastro[1])\n",
    "cadastro[4]= 1234\n",
    "print(cadastro)\n",
    "print(type(cadastro[4]))"
   ]
  },
  {
   "cell_type": "code",
   "execution_count": 44,
   "metadata": {},
   "outputs": [
    {
     "name": "stdout",
     "output_type": "stream",
     "text": [
      "1\n",
      "2\n",
      "3\n",
      "4\n",
      "agora terminou\n"
     ]
    }
   ],
   "source": [
    "terminou = False\n",
    "contador = 1\n",
    "while not terminou:\n",
    "    print(contador)\n",
    "    contador+=1\n",
    "    if contador > 4:\n",
    "        terminou = True\n",
    "print(\"agora terminou\")    "
   ]
  },
  {
   "cell_type": "code",
   "execution_count": 53,
   "metadata": {},
   "outputs": [
    {
     "name": "stdout",
     "output_type": "stream",
     "text": [
      "<class 'str'>\n",
      "False\n",
      "False\n",
      "<class 'bool'>\n"
     ]
    }
   ],
   "source": [
    "terminou = False\n",
    "print(type(terminou))\n",
    "print(terminou)\n",
    "print(not terminou)\n",
    "print(type(not terminou))"
   ]
  },
  {
   "cell_type": "markdown",
   "metadata": {},
   "source": [
    "Vamos criar algumas variáveis?\n",
    "\n",
    "Crie variáveis inteiras, não inteira e cadeia de caracter. \n"
   ]
  },
  {
   "cell_type": "code",
   "execution_count": 142,
   "metadata": {},
   "outputs": [],
   "source": [
    "### Crie aqui suas variáveis, depois use o comando m*type* para verificar o tipo das variáveis."
   ]
  },
  {
   "cell_type": "code",
   "execution_count": null,
   "metadata": {},
   "outputs": [],
   "source": [
    "mensagem_de_boas_vindas = \"Hello my friend\"\n",
    "a_resposta_para_tudo = 42\n",
    "elapsed_time = 12.50"
   ]
  },
  {
   "cell_type": "markdown",
   "metadata": {},
   "source": [
    "Agora pense:\n",
    "\n",
    "* Quais os nomes que você deu? \n",
    "* Por que você usou estes nomes específicos?"
   ]
  },
  {
   "cell_type": "markdown",
   "metadata": {},
   "source": [
    "## Nomes de variáveis\n",
    "\n",
    "É importante escolher nomes significativos para suas variáveis. Isso ajuda na leitura do código e também é importante para quando você voltar ao seu programa, algum tempo após criá-lo para facilitar sua compreensão.\n",
    "\n",
    "Algumas regras sobre nomes de variáveis:\n",
    "* devem ser significativos\n",
    "* podem ser tão longos quanto necessários\n",
    "* não podem iniciar com números\n",
    "* não podem conter alguns tipos de caracteres (caracteres especiais)\n",
    "\n",
    "**Convenções**\n",
    "\n",
    "Em *Python*  a recomendação (PEP8) é utilizar variáveis com todas as palavras com letras minúsculas e separadas pelo caractere de sublinhar **(_)**. \n",
    "\n",
    "Alguns exemplos:\n",
    "\n",
    "nome_do_cliente\n",
    "\n",
    "data_de_cadastro\n",
    "\n",
    "produto_per_capita\n",
    "\n",
    "Caso você dê um nome inválido para uma variável o interpretador *Python* lhe responderá com uma mensagem de erro.\n",
    "\n"
   ]
  },
  {
   "cell_type": "code",
   "execution_count": 143,
   "metadata": {},
   "outputs": [
    {
     "ename": "SyntaxError",
     "evalue": "invalid decimal literal (3966195666.py, line 1)",
     "output_type": "error",
     "traceback": [
      "\u001b[0;36m  Cell \u001b[0;32mIn [143], line 1\u001b[0;36m\u001b[0m\n\u001b[0;31m    45graus = 45\u001b[0m\n\u001b[0m     ^\u001b[0m\n\u001b[0;31mSyntaxError\u001b[0m\u001b[0;31m:\u001b[0m invalid decimal literal\n"
     ]
    }
   ],
   "source": [
    "45graus = 45\n"
   ]
  },
  {
   "cell_type": "code",
   "execution_count": null,
   "metadata": {},
   "outputs": [
    {
     "ename": "SyntaxError",
     "evalue": "invalid syntax (2142107969.py, line 1)",
     "output_type": "error",
     "traceback": [
      "\u001b[0;36m  Cell \u001b[0;32mIn [13], line 1\u001b[0;36m\u001b[0m\n\u001b[0;31m    localizacao@ = 1.23455323\u001b[0m\n\u001b[0m                 ^\u001b[0m\n\u001b[0;31mSyntaxError\u001b[0m\u001b[0;31m:\u001b[0m invalid syntax\n"
     ]
    }
   ],
   "source": [
    "\n",
    "localizacao@ = 1.23455323\n"
   ]
  },
  {
   "cell_type": "code",
   "execution_count": null,
   "metadata": {},
   "outputs": [
    {
     "ename": "SyntaxError",
     "evalue": "invalid syntax (1511288208.py, line 1)",
     "output_type": "error",
     "traceback": [
      "\u001b[0;36m  Cell \u001b[0;32mIn [15], line 1\u001b[0;36m\u001b[0m\n\u001b[0;31m    class = 'ano de 2020'\u001b[0m\n\u001b[0m          ^\u001b[0m\n\u001b[0;31mSyntaxError\u001b[0m\u001b[0;31m:\u001b[0m invalid syntax\n"
     ]
    }
   ],
   "source": [
    "\n",
    "class = 'ano de 2020'"
   ]
  },
  {
   "cell_type": "markdown",
   "metadata": {},
   "source": [
    "Nos três casos acima, você tem diversas razões  para o erro:\n",
    "* nome de variável iniciando com número\n",
    "* uso de um caractere ilegal '@'\n",
    "* uso de uma **palavra-chave**\n",
    "\n",
    "**Palavra Chave?**\n",
    "\n",
    "Há algumas palavras que são instruções específicas usadas na linguagem *Python*. Estas instruções são reservadas pela definição da linguagem. O uso destas palavras vai ter um propósito específico.]\n",
    "\n",
    "No *Python 3*, que é a versão que utilizamos, as palavras-chave são: \n",
    "\n",
    "\n"
   ]
  },
  {
   "attachments": {},
   "cell_type": "markdown",
   "metadata": {},
   "source": [
    "|Palavras Chave     |            |                |              |\n",
    "|------------|------------------|---------------------|---------------------|\n",
    "|False       |        class     |          from       |         or          |\n",
    "|None        |        continue  |          global     |         pass        |\n",
    "|True        |        def       |          if         |         raise       |\n",
    "|and         |        del       |          import     |         return      |\n",
    "|as          |        elif      |          in         |         try         |\n",
    "|assert      |        else      |          is         |         while       |\n",
    "|async       |        except    |          lambda     |         with        |\n",
    "|await       |        finally   |          nonlocal   |         yield       |\n",
    "|break       |        for       |          not        |                     |\n"
   ]
  },
  {
   "cell_type": "markdown",
   "metadata": {},
   "source": [
    "## Expressões e Instruções\n",
    "\n",
    "Uma expressão é uma combinação de valores, variáveis e operadores.\n",
    "\n",
    "Um valor é uma expressão, operações matemáticas ou outras operações válidas na linguagem são expressões.\n",
    "\n",
    "Alguns exemplos:"
   ]
  },
  {
   "cell_type": "code",
   "execution_count": null,
   "metadata": {},
   "outputs": [
    {
     "data": {
      "text/plain": [
       "42"
      ]
     },
     "execution_count": 16,
     "metadata": {},
     "output_type": "execute_result"
    }
   ],
   "source": [
    "42"
   ]
  },
  {
   "cell_type": "code",
   "execution_count": null,
   "metadata": {},
   "outputs": [
    {
     "data": {
      "text/plain": [
       "13"
      ]
     },
     "execution_count": 17,
     "metadata": {},
     "output_type": "execute_result"
    }
   ],
   "source": [
    "n"
   ]
  },
  {
   "cell_type": "code",
   "execution_count": null,
   "metadata": {},
   "outputs": [
    {
     "data": {
      "text/plain": [
       "42"
      ]
     },
     "execution_count": 18,
     "metadata": {},
     "output_type": "execute_result"
    }
   ],
   "source": [
    "n + 29"
   ]
  },
  {
   "cell_type": "code",
   "execution_count": null,
   "metadata": {},
   "outputs": [
    {
     "data": {
      "text/plain": [
       "17"
      ]
     },
     "execution_count": 19,
     "metadata": {},
     "output_type": "execute_result"
    }
   ],
   "source": [
    "2 + 3 * 5"
   ]
  },
  {
   "cell_type": "markdown",
   "metadata": {},
   "source": [
    "Uma **instrução** é uma unidade de código que cria (ou altera) uma variável ou exibe um valor.\n",
    "\n",
    "Por exemplo:"
   ]
  },
  {
   "cell_type": "code",
   "execution_count": null,
   "metadata": {},
   "outputs": [
    {
     "name": "stdout",
     "output_type": "stream",
     "text": [
      "25\n"
     ]
    }
   ],
   "source": [
    "x = 25\n",
    "print(x)"
   ]
  },
  {
   "cell_type": "markdown",
   "metadata": {},
   "source": [
    "## Scripts\n",
    "\n",
    "O modo interativo do *Python* é executado quando você tem o programa (interpretador) executando numa *console*. Este modo, porém, não permite a execução repetida de um determinado conjunto de códigos (que você eventualmente vai querer reusar).\n",
    "\n",
    "Para fazer isso, você pode colocar todas as instruções em um *arquivo* específico chamdo *script*.  Você pode, então, **executar** este *script* (o seu programa python).\n",
    "\n",
    "Executar um programa significa que o interpretador vai ler o script (com o sufixo *.py*) que você criou e executar todas as instruções em sequência. \n",
    "\n",
    "Para executar um script *Python* você simplesmente chama o interpretador com o nome do seu arquivo *.py* depois. (Isso numa console)"
   ]
  },
  {
   "cell_type": "markdown",
   "metadata": {},
   "source": [
    "### Tarefa\n",
    "\n",
    "* Crie um pequeno conjunto de instruções. \n",
    "* Salve-as em um script python\n",
    "* Execute este script"
   ]
  },
  {
   "cell_type": "markdown",
   "metadata": {},
   "source": [
    "## Ordem da Operações (precedência de operadores)\n",
    "\n",
    "* Parênteses tem a precedência mais alta. O que está dentro deles é executado primeiro\n",
    "* Exponenciação é a segunda maior precedência\n",
    "* Multiplicação e Divisão vêm depois\n",
    "* Por fim Adição e Subtração\n",
    "* Operadores com a mesma precedência são executados da esquerda para a direita"
   ]
  },
  {
   "attachments": {},
   "cell_type": "markdown",
   "metadata": {},
   "source": [
    "### Tarefa\n",
    "\n",
    "Coloque numa instrução as seguintes expressões:\n",
    "\n",
    " $y=ax^2+bx+c$  \n",
    " \n",
    " * com:\n",
    "   * $x=-2$, \n",
    "   * $x=0$, \n",
    " * e $x=2.1$, \n",
    " * usando \n",
    "   * $a=1$, \n",
    "   * $b=1$, \n",
    "   * $c=-6$ \n",
    " * e imprimindo os resultados na tela.\n",
    "\n",
    "\n",
    "# gqy-xyhr-iry\n"
   ]
  },
  {
   "cell_type": "code",
   "execution_count": 54,
   "metadata": {},
   "outputs": [],
   "source": [
    "a = 1\n",
    "b = 1\n",
    "c = -6\n",
    "x = -2\n",
    "\n"
   ]
  },
  {
   "cell_type": "code",
   "execution_count": 57,
   "metadata": {},
   "outputs": [
    {
     "name": "stdout",
     "output_type": "stream",
     "text": [
      "-2\n",
      "0\n",
      "2.1\n"
     ]
    }
   ],
   "source": [
    "x = {}\n",
    "x[1] = -2\n",
    "x[2] = 0 \n",
    "x[3] = 2.1\n",
    "\n",
    "a = 1\n",
    "b = 1\n",
    "c = -6\n",
    "\n",
    "for i in x.keys():\n",
    "    print(x[i])"
   ]
  },
  {
   "cell_type": "code",
   "execution_count": 58,
   "metadata": {},
   "outputs": [
    {
     "name": "stdout",
     "output_type": "stream",
     "text": [
      "{'f': -4}\n",
      "{'f': -4, 'g': -6}\n",
      "{'f': -4, 'g': -6, 'h': 0.5099999999999998}\n",
      "{'f': -4, 'g': -6, 'h': 0.5099999999999998}\n",
      "<class 'dict'>\n",
      "<class 'dict'>\n"
     ]
    }
   ],
   "source": [
    "x = {}\n",
    "x['f'] = -2\n",
    "x['g'] = 0 \n",
    "x['h'] = 2.1\n",
    "\n",
    "a = 1\n",
    "b = 1\n",
    "c = -6\n",
    "z = {}\n",
    "\n",
    "for i in x.keys():\n",
    "    z[i] = a * x[i] ** 2 + b * x[i] + c\n",
    "    print(z)\n",
    "print(z)\n",
    "print(type(z))\n",
    "print(type(x))"
   ]
  },
  {
   "cell_type": "markdown",
   "metadata": {},
   "source": [
    "\n",
    "\n",
    "$y=ax^2 + b(x+c)$  \n",
    " \n",
    " * com:\n",
    "   * $x=-2$, \n",
    "   * $x=0$, \n",
    " * e $x=2.1$, \n",
    " * usando \n",
    "   * $a=1$, \n",
    "   * $b=1$, \n",
    "   * $c=-6$ \n",
    " * e imprimindo os resultados na tela.\n"
   ]
  }
 ],
 "metadata": {
  "kernelspec": {
   "display_name": "Python 3 (ipykernel)",
   "language": "python",
   "name": "python3"
  },
  "language_info": {
   "codemirror_mode": {
    "name": "ipython",
    "version": 3
   },
   "file_extension": ".py",
   "mimetype": "text/x-python",
   "name": "python",
   "nbconvert_exporter": "python",
   "pygments_lexer": "ipython3",
   "version": "3.10.6"
  },
  "vscode": {
   "interpreter": {
    "hash": "916dbcbb3f70747c44a77c7bcd40155683ae19c65e1c03b4aa3499c5328201f1"
   }
  }
 },
 "nbformat": 4,
 "nbformat_minor": 4
}
