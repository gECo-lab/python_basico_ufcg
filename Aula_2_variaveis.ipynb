{
 "cells": [
  {
   "cell_type": "markdown",
   "metadata": {},
   "source": [
    "<img src=\"files/figs/logo_ufcg.png\" width=150 align=\"right\"/>   <H1> Python Básico (para economistas) <H1/> <H5> Sérgio Rivero<H5/> Economia CH-UFCG"
   ]
  },
  {
   "cell_type": "markdown",
   "metadata": {},
   "source": [
    "# Variáveis, Expressões, Instruções"
   ]
  },
  {
   "cell_type": "markdown",
   "metadata": {},
   "source": [
    "## Variáveis e Atribuições\n",
    "\n",
    "Uma linguagem de programação tem a capacidade de criar, armazenar  e manipular **variáveis**\n",
    "\n",
    "\n",
    "### Atribuição\n",
    "\n",
    "Uma variável é um *nome* ao qual se atribui um *valor* que é armazenado em um espaço na memória do seu computador.\n",
    "\n",
    "Para criar e dar valor a uma variável, utilizamos uma **instrução de atribuição**\n",
    "\n",
    "Exemplo:\n"
   ]
  },
  {
   "cell_type": "code",
   "execution_count": 133,
   "metadata": {},
   "outputs": [],
   "source": [
    "mensagem = \"Aqui é a minha primeira operaçã de atribuição\""
   ]
  },
  {
   "cell_type": "code",
   "execution_count": 134,
   "metadata": {},
   "outputs": [],
   "source": [
    "n = 13"
   ]
  },
  {
   "cell_type": "code",
   "execution_count": 135,
   "metadata": {},
   "outputs": [],
   "source": [
    "distancia = 123.1241"
   ]
  },
  {
   "cell_type": "markdown",
   "metadata": {},
   "source": [
    "Nas 3 operações da atribuição acima, \n",
    "    * fizemos primeiro a atribuição de um texto (uma cadeia de caracteres) a uma variável que chamamos de *mensagem*\n",
    "    * Depois atribuímos o número inteiro 13 à variável *n*\n",
    "    * Finalmente criamos uma variável *distancia* à qual atribuimos o valor não inteiro *123.1241*\n",
    "\n",
    "Note:\n",
    "    * As varáveis serão de **tipos** diferentes, isso implicará nos tipos de operação que você pode fazer com elas.\n",
    "    * O separador de decimal na nossa linguagem é  **'.'** e não  **'.'**\n",
    "  \n",
    "Se olharmos estas variáveis no nosso interpretador *Python* teremos\n"
   ]
  },
  {
   "cell_type": "code",
   "execution_count": 136,
   "metadata": {},
   "outputs": [
    {
     "data": {
      "text/plain": [
       "'Aqui é a minha primeira operaçã de atribuição'"
      ]
     },
     "execution_count": 136,
     "metadata": {},
     "output_type": "execute_result"
    }
   ],
   "source": [
    "mensagem"
   ]
  },
  {
   "cell_type": "code",
   "execution_count": 137,
   "metadata": {},
   "outputs": [
    {
     "data": {
      "text/plain": [
       "13"
      ]
     },
     "execution_count": 137,
     "metadata": {},
     "output_type": "execute_result"
    }
   ],
   "source": [
    "n"
   ]
  },
  {
   "cell_type": "code",
   "execution_count": 138,
   "metadata": {},
   "outputs": [
    {
     "data": {
      "text/plain": [
       "123.1241"
      ]
     },
     "execution_count": 138,
     "metadata": {},
     "output_type": "execute_result"
    }
   ],
   "source": [
    "distancia"
   ]
  },
  {
   "cell_type": "markdown",
   "metadata": {},
   "source": [
    "Olhando para os *tipos* destas variáveis, temos:"
   ]
  },
  {
   "cell_type": "code",
   "execution_count": 139,
   "metadata": {},
   "outputs": [
    {
     "data": {
      "text/plain": [
       "str"
      ]
     },
     "execution_count": 139,
     "metadata": {},
     "output_type": "execute_result"
    }
   ],
   "source": [
    "type(mensagem)"
   ]
  },
  {
   "cell_type": "code",
   "execution_count": 140,
   "metadata": {},
   "outputs": [
    {
     "data": {
      "text/plain": [
       "int"
      ]
     },
     "execution_count": 140,
     "metadata": {},
     "output_type": "execute_result"
    }
   ],
   "source": [
    "type(n)"
   ]
  },
  {
   "cell_type": "code",
   "execution_count": 141,
   "metadata": {},
   "outputs": [
    {
     "data": {
      "text/plain": [
       "float"
      ]
     },
     "execution_count": 141,
     "metadata": {},
     "output_type": "execute_result"
    }
   ],
   "source": [
    "type(distancia)"
   ]
  },
  {
   "cell_type": "markdown",
   "metadata": {},
   "source": [
    "Vamos criar algumas variáveis?\n",
    "\n",
    "Crie variáveis inteiras, não inteira e cadeia de caracter. \n"
   ]
  },
  {
   "cell_type": "code",
   "execution_count": 142,
   "metadata": {},
   "outputs": [],
   "source": [
    "### Crie aqui suas variáveis, depois use o comando *type* para verificar o tipo das variáveis."
   ]
  },
  {
   "cell_type": "markdown",
   "metadata": {},
   "source": [
    "Agora pense:\n",
    "\n",
    "* Quais os nomes que você deu? \n",
    "* Por que você usou estes nomes específicos?"
   ]
  },
  {
   "cell_type": "markdown",
   "metadata": {},
   "source": [
    "## Nomes de variáveis\n",
    "\n",
    "É importante escolher nomes significativos para suas variáveis. Isso ajuda na leitura do código e também é importante para quando você voltar ao seu programa, algum tempo após criá-lo para facilitar sua compreensão.\n",
    "\n",
    "Algumas regras sobre nomes de variáveis:\n",
    "* devem ser significativos\n",
    "* podem ser tão longos quanto necessários\n",
    "* não podem iniciar com letras\n",
    "* não podem conter alguns tipos de caracteres (caracteres especiais)\n",
    "\n",
    "**Convenções**\n",
    "\n",
    "Em *Python*  a recomendação (PEP8) é utilizar variáveis com todas as palavras com letras minúsculas e separadas pelo caractere de sublinhar **(_)**. \n",
    "\n",
    "Alguns exemplos:\n",
    "\n",
    "nome_do_cliente\n",
    "\n",
    "data_de_cadastro\n",
    "\n",
    "produto_per_capita\n",
    "\n",
    "Caso você dê um nome inválido para uma variável o interpretador *Python* lhe responderá com uma mensagem de erro.\n",
    "\n"
   ]
  },
  {
   "cell_type": "code",
   "execution_count": 143,
   "metadata": {},
   "outputs": [
    {
     "ename": "SyntaxError",
     "evalue": "invalid decimal literal (3966195666.py, line 1)",
     "output_type": "error",
     "traceback": [
      "\u001b[0;36m  Cell \u001b[0;32mIn [143], line 1\u001b[0;36m\u001b[0m\n\u001b[0;31m    45graus = 45\u001b[0m\n\u001b[0m     ^\u001b[0m\n\u001b[0;31mSyntaxError\u001b[0m\u001b[0;31m:\u001b[0m invalid decimal literal\n"
     ]
    }
   ],
   "source": [
    "45graus = 45\n"
   ]
  },
  {
   "cell_type": "code",
   "execution_count": null,
   "metadata": {},
   "outputs": [
    {
     "ename": "SyntaxError",
     "evalue": "invalid syntax (2142107969.py, line 1)",
     "output_type": "error",
     "traceback": [
      "\u001b[0;36m  Cell \u001b[0;32mIn [13], line 1\u001b[0;36m\u001b[0m\n\u001b[0;31m    localizacao@ = 1.23455323\u001b[0m\n\u001b[0m                 ^\u001b[0m\n\u001b[0;31mSyntaxError\u001b[0m\u001b[0;31m:\u001b[0m invalid syntax\n"
     ]
    }
   ],
   "source": [
    "\n",
    "localizacao@ = 1.23455323\n"
   ]
  },
  {
   "cell_type": "code",
   "execution_count": null,
   "metadata": {},
   "outputs": [
    {
     "ename": "SyntaxError",
     "evalue": "invalid syntax (1511288208.py, line 1)",
     "output_type": "error",
     "traceback": [
      "\u001b[0;36m  Cell \u001b[0;32mIn [15], line 1\u001b[0;36m\u001b[0m\n\u001b[0;31m    class = 'ano de 2020'\u001b[0m\n\u001b[0m          ^\u001b[0m\n\u001b[0;31mSyntaxError\u001b[0m\u001b[0;31m:\u001b[0m invalid syntax\n"
     ]
    }
   ],
   "source": [
    "\n",
    "class = 'ano de 2020'"
   ]
  },
  {
   "cell_type": "markdown",
   "metadata": {},
   "source": [
    "Nos três casos acima, você tem diversas razões  para o erro:\n",
    "* nome de variável iniciando com número\n",
    "* uso de um caractere ilegal '@'\n",
    "* uso de uma **palavra-chave**\n",
    "\n",
    "**Palavra Chave?**\n",
    "\n",
    "Há algumas palavras que são instruções específicas usadas na linguagem *Python*. Estas instruções são reservadas pela definição da linguagem. O uso destas palavras vai ter um propósito específico.]\n",
    "\n",
    "No *Python 3*, que é a versão que utilizamos, as palavras-chave são: \n",
    "\n",
    "\n"
   ]
  },
  {
   "attachments": {},
   "cell_type": "markdown",
   "metadata": {},
   "source": [
    "|Palavras Chave     |            |                |              |\n",
    "|------------|------------------|---------------------|---------------------|\n",
    "|False       |        class     |          from       |         or          |\n",
    "|None        |        continue  |          global     |         pass        |\n",
    "|True        |        def       |          if         |         raise       |\n",
    "|and         |        del       |          import     |         return      |\n",
    "|as          |        elif      |          in         |         try         |\n",
    "|assert      |        else      |          is         |         while       |\n",
    "|async       |        except    |          lambda     |         with        |\n",
    "|await       |        finally   |          nonlocal   |         yield       |\n",
    "|break       |        for       |          not        |                     |\n"
   ]
  },
  {
   "cell_type": "markdown",
   "metadata": {},
   "source": [
    "## Expressões e Instruções\n",
    "\n",
    "Uma expressão é uma combinação de valores, variáveis e operadores.\n",
    "\n",
    "Um valor é uma expressão, operações matemáticas ou outras operações válidas na linguagem são expressões.\n",
    "\n",
    "Alguns exemplos:"
   ]
  },
  {
   "cell_type": "code",
   "execution_count": null,
   "metadata": {},
   "outputs": [
    {
     "data": {
      "text/plain": [
       "42"
      ]
     },
     "execution_count": 16,
     "metadata": {},
     "output_type": "execute_result"
    }
   ],
   "source": [
    "42"
   ]
  },
  {
   "cell_type": "code",
   "execution_count": null,
   "metadata": {},
   "outputs": [
    {
     "data": {
      "text/plain": [
       "13"
      ]
     },
     "execution_count": 17,
     "metadata": {},
     "output_type": "execute_result"
    }
   ],
   "source": [
    "n"
   ]
  },
  {
   "cell_type": "code",
   "execution_count": null,
   "metadata": {},
   "outputs": [
    {
     "data": {
      "text/plain": [
       "42"
      ]
     },
     "execution_count": 18,
     "metadata": {},
     "output_type": "execute_result"
    }
   ],
   "source": [
    "n + 29"
   ]
  },
  {
   "cell_type": "code",
   "execution_count": null,
   "metadata": {},
   "outputs": [
    {
     "data": {
      "text/plain": [
       "17"
      ]
     },
     "execution_count": 19,
     "metadata": {},
     "output_type": "execute_result"
    }
   ],
   "source": [
    "2 + 3 * 5"
   ]
  },
  {
   "cell_type": "markdown",
   "metadata": {},
   "source": [
    "Uma **instrução** é uma unidade de código que cria (ou altera) uma variável ou exibe um valor.\n",
    "\n",
    "Por exemplo:"
   ]
  },
  {
   "cell_type": "code",
   "execution_count": null,
   "metadata": {},
   "outputs": [
    {
     "name": "stdout",
     "output_type": "stream",
     "text": [
      "25\n"
     ]
    }
   ],
   "source": [
    "x = 25\n",
    "print(x)"
   ]
  },
  {
   "cell_type": "markdown",
   "metadata": {},
   "source": [
    "## Scripts\n",
    "\n",
    "O modo interativo do *Python* é executado quando você tem o programa (interpretador) executando numa *console*. Este modo, porém, não permite a execução repetida de um determinado conjunto de códigos (que você eventualmente vai querer reusar).\n",
    "\n",
    "Para fazer isso, você pode colocar todas as instruções em um *arquivo* específico chamdo *script*.  Você pode, então, **executar** este *script* (o seu programa python).\n",
    "\n",
    "Executar um programa significa que o interpretador vai ler o script (com o sufixo *.py*) que você criou e executar todas as instruções em sequência. \n",
    "\n",
    "Para executar um script *Python* você simplesmente chama o interpretador com o nome do seu arquivo *.py* depois. (Isso numa console)"
   ]
  },
  {
   "cell_type": "markdown",
   "metadata": {},
   "source": [
    "### Tarefa\n",
    "\n",
    "* Crie um pequeno conjunto de instruções. \n",
    "* Salve-as em um script python\n",
    "* Execute este script"
   ]
  },
  {
   "cell_type": "markdown",
   "metadata": {},
   "source": [
    "## Ordem da Operações (precedência de operadores)\n",
    "\n",
    "* Parênteses tem a precedência mais alta. O que está dentro deles é executado primeiro\n",
    "* Exponenciação é a segunda maior precedência\n",
    "* Multiplicação e Divisão vêm depois\n",
    "* Por fim Adição e Subtração\n",
    "* Operadores com a mesma precedência são executados da esquerda para a direita"
   ]
  },
  {
   "attachments": {},
   "cell_type": "markdown",
   "metadata": {},
   "source": [
    "### Tarefa\n",
    "\n",
    "Coloque numa instrução as seguintes expressões:\n",
    "\n",
    " $y=ax^2+bx+c$  \n",
    " \n",
    " * com:\n",
    "   * $x=-2$, \n",
    "   * $x=0$, \n",
    " * e $x=2.1$, \n",
    " * usando \n",
    "   * $a=1$, \n",
    "   * $b=1$, \n",
    "   * $c=-6$ \n",
    " * e imprimindo os resultados na tela.\n",
    "\n",
    "\n",
    "$y=ax^2 + b(x+c)$  \n",
    " \n",
    " * com:\n",
    "   * $x=-2$, \n",
    "   * $x=0$, \n",
    " * e $x=2.1$, \n",
    " * usando \n",
    "   * $a=1$, \n",
    "   * $b=1$, \n",
    "   * $c=-6$ \n",
    " * e imprimindo os resultados na tela.\n"
   ]
  }
 ],
 "metadata": {
  "kernelspec": {
   "display_name": "Python 3 (ipykernel)",
   "language": "python",
   "name": "python3"
  },
  "language_info": {
   "codemirror_mode": {
    "name": "ipython",
    "version": 3
   },
   "file_extension": ".py",
   "mimetype": "text/x-python",
   "name": "python",
   "nbconvert_exporter": "python",
   "pygments_lexer": "ipython3",
   "version": "3.10.6 (main, Nov  2 2022, 18:53:38) [GCC 11.3.0]"
  },
  "vscode": {
   "interpreter": {
    "hash": "916dbcbb3f70747c44a77c7bcd40155683ae19c65e1c03b4aa3499c5328201f1"
   }
  }
 },
 "nbformat": 4,
 "nbformat_minor": 4
}
