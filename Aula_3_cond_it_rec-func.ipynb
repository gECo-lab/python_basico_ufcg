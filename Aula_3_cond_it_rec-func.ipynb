{
 "cells": [
  {
   "cell_type": "markdown",
   "metadata": {},
   "source": [
    "<img src=\"files/figs/logo_ufcg.png\" width=150 align=\"right\"/>   <H1> Python Básico (para economistas) <H1/> <H5> Sérgio Rivero<H5/> Economia CH-UFCG"
   ]
  },
  {
   "cell_type": "markdown",
   "metadata": {},
   "source": [
    "# Funções, Condição, Iteração, Módulos  "
   ]
  },
  {
   "cell_type": "markdown",
   "metadata": {},
   "source": []
  },
  {
   "cell_type": "code",
   "execution_count": null,
   "metadata": {},
   "outputs": [],
   "source": [
    "## Criando vários objetos\n",
    "\n",
    "a_resposta = 42\n",
    "a_resposta_string = \"quarenta e dois\"\n",
    "a_resposta_float = float(a_resposta)\n"
   ]
  },
  {
   "cell_type": "code",
   "execution_count": null,
   "metadata": {},
   "outputs": [],
   "source": [
    "print(a_resposta)\n",
    "print(a_resposta_string)\n",
    "a = float(a_resposta)"
   ]
  },
  {
   "cell_type": "code",
   "execution_count": null,
   "metadata": {},
   "outputs": [],
   "source": [
    "print(a)"
   ]
  },
  {
   "cell_type": "code",
   "execution_count": null,
   "metadata": {},
   "outputs": [],
   "source": [
    "float(a_resposta_string)"
   ]
  },
  {
   "cell_type": "code",
   "execution_count": null,
   "metadata": {},
   "outputs": [],
   "source": [
    "hours = 4\n",
    "minutes = hours * 60\n",
    "\n",
    "print(minutes)\n"
   ]
  },
  {
   "cell_type": "code",
   "execution_count": null,
   "metadata": {},
   "outputs": [],
   "source": [
    "hours * 60 = minutes"
   ]
  },
  {
   "cell_type": "code",
   "execution_count": null,
   "metadata": {},
   "outputs": [],
   "source": [
    "hours * 60 == minutes"
   ]
  },
  {
   "cell_type": "code",
   "execution_count": null,
   "metadata": {},
   "outputs": [],
   "source": [
    "print(hours)\n",
    "print(minutes)\n",
    "print(5*60)\n",
    "239.9999999 != minutes"
   ]
  },
  {
   "cell_type": "code",
   "execution_count": null,
   "metadata": {},
   "outputs": [],
   "source": [
    "def parte_inteira(dividendo, divisor=1):\n",
    "    resultado_inteiro = dividendo//divisor\n",
    "    return resultado_inteiro"
   ]
  },
  {
   "cell_type": "code",
   "execution_count": null,
   "metadata": {},
   "outputs": [],
   "source": [
    "resultado = parte_inteira(5,2)\n",
    "\n",
    "print(resultado)"
   ]
  },
  {
   "cell_type": "code",
   "execution_count": null,
   "metadata": {},
   "outputs": [],
   "source": [
    "def quadrados(x,z,w):\n",
    "    resposta = x**2 + z**2 + w**2\n",
    "    print(\"Aqui é dentro da função\", resposta)\n",
    "    return resposta\n"
   ]
  },
  {
   "cell_type": "code",
   "execution_count": null,
   "metadata": {},
   "outputs": [],
   "source": [
    "y = quadrados(22,3,4)\n",
    "print(\"O valor de y é \",y)"
   ]
  },
  {
   "cell_type": "code",
   "execution_count": null,
   "metadata": {},
   "outputs": [],
   "source": [
    "parte_inteira(10,3)\n"
   ]
  },
  {
   "cell_type": "code",
   "execution_count": null,
   "metadata": {},
   "outputs": [],
   "source": [
    "parte_inteira(10.25)"
   ]
  },
  {
   "cell_type": "code",
   "execution_count": null,
   "metadata": {},
   "outputs": [],
   "source": [
    "resultado = parte_inteira(10510,233)\n",
    "\n",
    "print(resultado)"
   ]
  },
  {
   "cell_type": "code",
   "execution_count": null,
   "metadata": {},
   "outputs": [],
   "source": [
    "def imprime_parte_inteira(dividendo, divisor):\n",
    "    resultado_inteiro = dividendo//divisor\n",
    "    print(resultado_inteiro)"
   ]
  },
  {
   "cell_type": "code",
   "execution_count": null,
   "metadata": {},
   "outputs": [],
   "source": [
    "resultado_impresso = imprime_parte_inteira(10510,233)\n",
    "\n",
    "print(resultado_inteiro)"
   ]
  },
  {
   "cell_type": "code",
   "execution_count": null,
   "metadata": {},
   "outputs": [],
   "source": [
    "def sao_iguais(x,y):\n",
    "    if x==y:\n",
    "        print(\"Os dois números são iguais\")\n",
    "    else:\n",
    "        print(\"Os dois números são diferentes\")\n",
    "    return(x==y)\n",
    "\n",
    "a = 10\n",
    "c = 20\n",
    "d = a + c\n",
    "print(\"a = \",a, \" c = \",c , \" e  d = \", d)\n",
    "print(a == c)\n",
    "sao_iguais(a,c)\n",
    "a = c\n",
    "print(\"a = \",a, \" c = \",c , \" e  d = \", d)\n",
    "print(a == c)\n",
    "sao_iguais(a,c)"
   ]
  },
  {
   "cell_type": "code",
   "execution_count": null,
   "metadata": {},
   "outputs": [],
   "source": [
    "print(type(sao_iguais(a,c)))\n",
    "print(type(a==c))"
   ]
  },
  {
   "cell_type": "code",
   "execution_count": null,
   "metadata": {},
   "outputs": [],
   "source": [
    "def maior_que(x,y):\n",
    "    if x > y:\n",
    "        print(x,\" é maior que \", y)\n",
    "    else:\n",
    "        print(x,\" não é maior que \",y)"
   ]
  },
  {
   "cell_type": "code",
   "execution_count": null,
   "metadata": {},
   "outputs": [],
   "source": [
    "maior_que(10, 9)"
   ]
  },
  {
   "cell_type": "code",
   "execution_count": null,
   "metadata": {},
   "outputs": [],
   "source": [
    "print(10>9)\n",
    "print(10<=9)\n",
    "\n",
    "print(\"Usando o not\")\n",
    "\n",
    "print(not(10>9))\n",
    "print(not(10<=9))"
   ]
  },
  {
   "cell_type": "code",
   "execution_count": 51,
   "metadata": {},
   "outputs": [],
   "source": [
    "def e_par(x):\n",
    "    if x % 2 == 0:\n",
    "        return True\n",
    "    else:\n",
    "        return False"
   ]
  },
  {
   "cell_type": "code",
   "execution_count": 52,
   "metadata": {},
   "outputs": [
    {
     "name": "stdout",
     "output_type": "stream",
     "text": [
      "True\n",
      "False\n"
     ]
    }
   ],
   "source": [
    "print(e_par(10))\n",
    "\n",
    "print(e_par(11))\n"
   ]
  },
  {
   "cell_type": "markdown",
   "metadata": {},
   "source": [
    "# Iteração"
   ]
  },
  {
   "cell_type": "code",
   "execution_count": 60,
   "metadata": {},
   "outputs": [
    {
     "name": "stdout",
     "output_type": "stream",
     "text": [
      "range(2, 12, 2)\n",
      "2 é par\n",
      "4 é par\n",
      "6 é par\n",
      "8 é par\n",
      "10 é par\n"
     ]
    }
   ],
   "source": [
    "a = range(2,12,2)\n",
    "print(a)\n",
    "\n",
    "for numero in a:\n",
    "    if e_par(numero):\n",
    "        print(numero, \"é par\")\n",
    "    else:\n",
    "        print(numero, \"não é par\")"
   ]
  },
  {
   "cell_type": "code",
   "execution_count": 66,
   "metadata": {},
   "outputs": [
    {
     "name": "stdout",
     "output_type": "stream",
     "text": [
      "[0.  0.1 0.2 0.3 0.4 0.5 0.6 0.7 0.8 0.9 1.  1.1 1.2 1.3 1.4 1.5 1.6 1.7\n",
      " 1.8 1.9 2.  2.1 2.2 2.3 2.4 2.5 2.6 2.7 2.8 2.9 3.  3.1 3.2 3.3 3.4 3.5\n",
      " 3.6 3.7 3.8 3.9 4. ]\n",
      "0.0 é par\n",
      "0.1 não é par\n",
      "0.2 não é par\n",
      "0.30000000000000004 não é par\n",
      "0.4 não é par\n",
      "0.5 não é par\n",
      "0.6000000000000001 não é par\n",
      "0.7000000000000001 não é par\n",
      "0.8 não é par\n",
      "0.9 não é par\n",
      "1.0 não é par\n",
      "1.1 não é par\n",
      "1.2000000000000002 não é par\n",
      "1.3 não é par\n",
      "1.4000000000000001 não é par\n",
      "1.5 não é par\n",
      "1.6 não é par\n",
      "1.7000000000000002 não é par\n",
      "1.8 não é par\n",
      "1.9000000000000001 não é par\n",
      "2.0 é par\n",
      "2.1 não é par\n",
      "2.2 não é par\n",
      "2.3000000000000003 não é par\n",
      "2.4000000000000004 não é par\n",
      "2.5 não é par\n",
      "2.6 não é par\n",
      "2.7 não é par\n",
      "2.8000000000000003 não é par\n",
      "2.9000000000000004 não é par\n",
      "3.0 não é par\n",
      "3.1 não é par\n",
      "3.2 não é par\n",
      "3.3000000000000003 não é par\n",
      "3.4000000000000004 não é par\n",
      "3.5 não é par\n",
      "3.6 não é par\n",
      "3.7 não é par\n",
      "3.8000000000000003 não é par\n",
      "3.9000000000000004 não é par\n",
      "4.0 é par\n"
     ]
    }
   ],
   "source": [
    "import numpy as np\n",
    "a = np.arange(0,4.1,0.1)\n",
    "print(a)\n",
    "\n",
    "for numero in a:\n",
    "    if e_par(numero):\n",
    "        print(numero, \"é par\")\n",
    "    else:\n",
    "        print(numero, \"não é par\")"
   ]
  },
  {
   "cell_type": "code",
   "execution_count": 65,
   "metadata": {},
   "outputs": [
    {
     "data": {
      "text/plain": [
       "0.20000000000000018"
      ]
     },
     "execution_count": 65,
     "metadata": {},
     "output_type": "execute_result"
    }
   ],
   "source": [
    "2.2 % 2 "
   ]
  },
  {
   "cell_type": "code",
   "execution_count": 71,
   "metadata": {},
   "outputs": [],
   "source": [
    "def ate_0(n):\n",
    "    if n < 0:\n",
    "        print(\" n deve ser um número maior ou igual a zero\")\n",
    "    else:\n",
    "        while n > 0:\n",
    "            print(n)\n",
    "            n = n - 1\n",
    "        print(\"cheguei em zero\")"
   ]
  },
  {
   "cell_type": "code",
   "execution_count": 74,
   "metadata": {},
   "outputs": [
    {
     "name": "stdout",
     "output_type": "stream",
     "text": [
      "10\n",
      "9\n",
      "8\n",
      "7\n",
      "6\n",
      "5\n",
      "4\n",
      "3\n",
      "2\n",
      "1\n",
      "cheguei em zero\n"
     ]
    }
   ],
   "source": [
    "ate_0(10)"
   ]
  },
  {
   "cell_type": "code",
   "execution_count": 76,
   "metadata": {},
   "outputs": [
    {
     "name": "stdout",
     "output_type": "stream",
     "text": [
      "dkfkd\n",
      "alslsls\n",
      "soeeoeoe\n",
      "jfjfjf\n",
      "jdjdjdjd\n",
      "Done!\n"
     ]
    }
   ],
   "source": [
    "while True:\n",
    "    line = input('> ')\n",
    "    if line == 'done':\n",
    "        break\n",
    "    print(line)\n",
    "print('Done!')"
   ]
  },
  {
   "cell_type": "code",
   "execution_count": 92,
   "metadata": {},
   "outputs": [],
   "source": [
    "def ate_0_r(n):\n",
    "    if n <= 0:\n",
    "        print(\" n deve ser um número maior ou igual a zero\")\n",
    "    elif n == 0:\n",
    "        print('Cheguei em zero!')\n",
    "    else:\n",
    "        print(n)\n",
    "        ate_0_r(n-1)"
   ]
  },
  {
   "cell_type": "code",
   "execution_count": 88,
   "metadata": {},
   "outputs": [],
   "source": [
    "def ate_0_r_2(n):\n",
    "    if n <= 0:\n",
    "        print(\" n deve ser um número maior ou igual a zero\")\n",
    "    if n == 0:\n",
    "        print('Cheguei em zero!')\n",
    "    if n > 0:\n",
    "        print(n)\n",
    "        ate_0_r(n-1)"
   ]
  },
  {
   "cell_type": "code",
   "execution_count": 93,
   "metadata": {},
   "outputs": [
    {
     "name": "stdout",
     "output_type": "stream",
     "text": [
      " n deve ser um número maior ou igual a zero\n"
     ]
    }
   ],
   "source": [
    "ate_0_r(0)\n"
   ]
  },
  {
   "cell_type": "code",
   "execution_count": 90,
   "metadata": {},
   "outputs": [
    {
     "name": "stdout",
     "output_type": "stream",
     "text": [
      " n deve ser um número maior ou igual a zero\n",
      "Cheguei em zero!\n"
     ]
    }
   ],
   "source": [
    "\n",
    "ate_0_r_2(0)"
   ]
  },
  {
   "cell_type": "markdown",
   "metadata": {},
   "source": [
    "# Listas"
   ]
  },
  {
   "cell_type": "code",
   "execution_count": 14,
   "metadata": {},
   "outputs": [
    {
     "name": "stdout",
     "output_type": "stream",
     "text": [
      "banana\n",
      "b\n",
      "a\n",
      "n\n",
      "a\n",
      "n\n",
      "a\n",
      "m posição: 0\n",
      "o posição: 1\n",
      "r posição: 2\n",
      "a posição: 3\n",
      "n posição: 4\n",
      "g posição: 5\n",
      "o posição: 6\n",
      "ultima letra de morango  é  o\n",
      "ngo\n",
      "7\n"
     ]
    }
   ],
   "source": [
    "fruta = \"banana\"\n",
    "print(fruta)\n",
    "\n",
    "for letra in fruta:\n",
    "    print(letra)\n",
    "fruta = \"morango\"\n",
    "i = 0\n",
    "while i < len(fruta):\n",
    "    print(fruta[i], \"posição:\", i)\n",
    "    i += 1\n",
    "\n",
    "print(\"ultima letra de\", fruta, \" é \", fruta[len(fruta)-1])\n",
    "\n",
    "ultima_letra = len(fruta)\n",
    "\n",
    "print(fruta[ultima_letra - 3 : ultima_letra])\n",
    "print(ultima_letra)"
   ]
  },
  {
   "cell_type": "code",
   "execution_count": 24,
   "metadata": {},
   "outputs": [
    {
     "name": "stdout",
     "output_type": "stream",
     "text": [
      "7\n",
      "True\n",
      "achei a letra a número  1\n",
      "achei a letra a número  3\n",
      "achei a letra a número  5\n",
      "achei a letra n número  2\n",
      "achei a letra n número  4\n"
     ]
    }
   ],
   "source": [
    "def acha(palavra, letra):\n",
    "    i = 0\n",
    "    while i < len(palavra):\n",
    "        if palavra[i] == letra:\n",
    "            print('achei a letra', letra, 'número ', i)\n",
    "        i += 1\n",
    "\n",
    "\n",
    "print(i)\n",
    "print(palavra[1] == 'a')\n",
    "\n",
    "acha(\"banana\", \"a\")\n",
    "acha(\"banana\", \"n\")\n"
   ]
  },
  {
   "cell_type": "code",
   "execution_count": 27,
   "metadata": {},
   "outputs": [
    {
     "name": "stdout",
     "output_type": "stream",
     "text": [
      "CENOURA\n"
     ]
    },
    {
     "data": {
      "text/plain": [
       "str"
      ]
     },
     "execution_count": 27,
     "metadata": {},
     "output_type": "execute_result"
    }
   ],
   "source": [
    "veg = 'cenoura'\n",
    "\n",
    "print(veg.upper())\n",
    "type(veg)"
   ]
  },
  {
   "cell_type": "markdown",
   "metadata": {},
   "source": [
    "# Listas"
   ]
  },
  {
   "cell_type": "code",
   "execution_count": 41,
   "metadata": {},
   "outputs": [
    {
     "name": "stdout",
     "output_type": "stream",
     "text": [
      "['João', 'da', 'Silva']\n",
      "João\n",
      "da\n",
      "SILVA\n",
      "João da SILVA\n",
      "['João', 'da']\n",
      "O sobrenome é Silva\n",
      "O nome completo é ['João', 'da', 'Silva']\n",
      "O nome de casado do ['João', 'da', 'Silva'] é ['João', 'da', 'Silva', 'Oliveira']\n",
      "O primeiro nome do senhor Oliveira é João\n"
     ]
    }
   ],
   "source": [
    "nome = 'João da Silva'\n",
    "\n",
    "resultado = nome.split(' ')\n",
    "print(resultado)\n",
    "\n",
    "len(resultado)\n",
    "\n",
    "print(resultado[0])\n",
    "print(resultado[1])\n",
    "print(resultado[2].upper())\n",
    "\n",
    "print(resultado[0], resultado[1], resultado[2].upper())\n",
    "\n",
    "sobrenome = resultado.pop()\n",
    "print(resultado)\n",
    "print('O sobrenome é', sobrenome)\n",
    "resultado.append(sobrenome)\n",
    "\n",
    "print('O nome completo é', resultado)\n",
    "\n",
    "resultado.append('Oliveira')\n",
    "\n",
    "print('O nome de casado do', resultado[0:3],'é', resultado)\n",
    "\n",
    "print('O primeiro nome do senhor', resultado[3], 'é', resultado[0] )"
   ]
  },
  {
   "cell_type": "code",
   "execution_count": 44,
   "metadata": {},
   "outputs": [
    {
     "name": "stdout",
     "output_type": "stream",
     "text": [
      "[]\n"
     ]
    }
   ],
   "source": [
    "discentes = []\n",
    "type(discentes)\n",
    "print(discentes)\n",
    "\n"
   ]
  },
  {
   "cell_type": "code",
   "execution_count": 59,
   "metadata": {},
   "outputs": [
    {
     "name": "stdout",
     "output_type": "stream",
     "text": [
      "['João da Silva', 'Maria Oliveira']\n",
      "['João da Silva', 'Maria Oliveira', 'José de Nazaré']\n",
      "['João da Silva', 'José de Nazaré']\n",
      "2\n",
      "Maria Oliveira\n",
      "['João da Silva', 'José de Nazaré', 'Maria Oliveira', 'Antonio José', 'Maria José']\n",
      "['Antonio José', 'José de Nazaré', 'João da Silva', 'Maria José', 'Maria Oliveira']\n"
     ]
    }
   ],
   "source": [
    "discentes = []\n",
    "discentes.append('João da Silva')\n",
    "discentes.append('Maria Oliveira')\n",
    "print(discentes)\n",
    "len(discentes)\n",
    "discentes.append('José de Nazaré')\n",
    "print(discentes)\n",
    "len(discentes)\n",
    "aluna = discentes.pop(1)\n",
    "print(discentes)\n",
    "print(len(discentes))\n",
    "print(aluna)\n",
    "discentes.append(aluna)\n",
    "novos = ['Antonio José', 'Maria José']\n",
    "nova_turma = discentes + novos\n",
    "print(nova_turma)\n",
    "nova_turma.sort()\n",
    "print(nova_turma)"
   ]
  },
  {
   "cell_type": "code",
   "execution_count": 73,
   "metadata": {},
   "outputs": [
    {
     "name": "stdout",
     "output_type": "stream",
     "text": [
      "1 Antonio José _________________________________\n",
      "2 José de Nazaré _________________________________\n",
      "3 João da Silva _________________________________\n",
      "4 Maria José _________________________________\n",
      "5 Maria Oliveira _________________________________\n",
      "6\n",
      "1 Antonio José _________________________________\n",
      "2 José de Nazaré _________________________________\n",
      "3 João da Silva _________________________________\n",
      "4 Maria José _________________________________\n",
      "5 Maria Oliveira _________________________________\n"
     ]
    }
   ],
   "source": [
    "def chamada(lista_de_discentes):\n",
    "    ordem = 1\n",
    "    for discente in lista_de_discentes:\n",
    "        print(ordem, discente, '_________________________________')\n",
    "        ordem += 1\n",
    "    print(ordem)\n",
    "\n",
    "def chamada_while(lista_de_discentes):\n",
    "    tamanho = len(lista_de_discentes)\n",
    "    ordem = 1\n",
    "    i = 0\n",
    "    while i < tamanho:\n",
    "        print(ordem, lista_de_discentes[i], '_________________________________')\n",
    "        ordem +=1\n",
    "        i +=1\n",
    "\n",
    "chamada(nova_turma)\n",
    "chamada_while(nova_turma)"
   ]
  },
  {
   "cell_type": "code",
   "execution_count": 85,
   "metadata": {},
   "outputs": [
    {
     "name": "stdout",
     "output_type": "stream",
     "text": [
      "[-10, -9, -8, -7, -6, -5, -4, -3, -2, -1, 0, 1, 2, 3, 4, 5, 6, 7, 8, 9, 10]\n",
      "[100, 81, 64, 49, 36, 25, 16, 9, 4, 1, 0, 1, 4, 9, 16, 25, 36, 49, 64, 81, 100]\n",
      "0\n",
      "770\n"
     ]
    }
   ],
   "source": [
    "x = list(range(-10,11))\n",
    "y = []\n",
    "print(x)\n",
    "for i in x:\n",
    "    y.append(i**2)\n",
    "print(y)\n",
    "print(sum(x))\n",
    "print(sum(y))\n",
    "print()"
   ]
  },
  {
   "cell_type": "markdown",
   "metadata": {},
   "source": [
    "# Dicionários\n",
    "\n",
    "\n",
    "Podemos criar dicionários usando \"{}\""
   ]
  },
  {
   "cell_type": "code",
   "execution_count": 92,
   "metadata": {},
   "outputs": [
    {
     "name": "stdout",
     "output_type": "stream",
     "text": [
      "<class 'dict'>\n",
      "<class 'dict'>\n"
     ]
    }
   ],
   "source": [
    "notas = dict()\n",
    "print(type(notas))\n",
    "estudantes = {'joao':101, 'jose':202, 'maria':233, 'antonio':105, 'ana':200}\n",
    "print(type(estudantes))"
   ]
  },
  {
   "cell_type": "markdown",
   "metadata": {},
   "source": [
    "## Acrescentando elementos num dicionário"
   ]
  },
  {
   "cell_type": "code",
   "execution_count": 105,
   "metadata": {},
   "outputs": [
    {
     "name": "stdout",
     "output_type": "stream",
     "text": [
      "{'joao': [80, 75, 85, 90]}\n",
      "{'joao': [80, 75, 85, 90], 'jose': [80, 72, 82, 92]}\n",
      "[80, 90, 89]\n",
      "{'joao': [80, 75, 85, 90], 'jose': [80, 72, 82, 92], 'maria': [80, 90, 89, 90]}\n"
     ]
    }
   ],
   "source": [
    "notas = dict()\n",
    "notas['joao'] = [80,75,85,90]\n",
    "print(notas)\n",
    "notas['jose'] = [80,72,82,92]\n",
    "print(notas)\n",
    "notas['maria'] = [80,90,89]\n",
    "print(notas['maria'])\n",
    "notas['maria'].append(90)\n",
    "print(notas)"
   ]
  },
  {
   "cell_type": "markdown",
   "metadata": {},
   "source": [
    "## Iterando em um dicionário"
   ]
  },
  {
   "cell_type": "code",
   "execution_count": 111,
   "metadata": {},
   "outputs": [
    {
     "name": "stdout",
     "output_type": "stream",
     "text": [
      "joao\n",
      "<class 'str'>\n",
      "Agora com a chave [80, 75, 85, 90]\n",
      "jose\n",
      "<class 'str'>\n",
      "Agora com a chave [80, 72, 82, 92]\n",
      "maria\n",
      "<class 'str'>\n",
      "Agora com a chave [80, 90, 89, 90]\n"
     ]
    }
   ],
   "source": [
    "for discente in notas:\n",
    "    print(discente)\n",
    "    print(type(discente))\n",
    "    print('Agora com a chave', notas[discente])\n",
    "    "
   ]
  },
  {
   "cell_type": "code",
   "execution_count": 112,
   "metadata": {},
   "outputs": [
    {
     "name": "stdout",
     "output_type": "stream",
     "text": [
      "joao [80, 75, 85, 90]\n",
      "<class 'str'>\n",
      "Agora com a chave [80, 75, 85, 90]\n",
      "jose [80, 72, 82, 92]\n",
      "<class 'str'>\n",
      "Agora com a chave [80, 72, 82, 92]\n",
      "maria [80, 90, 89, 90]\n",
      "<class 'str'>\n",
      "Agora com a chave [80, 90, 89, 90]\n"
     ]
    }
   ],
   "source": [
    "# Agora usando itens\n",
    "for discente, nota in notas.items():\n",
    "    print(discente, nota)\n",
    "    print(type(discente))\n",
    "    print('Agora com a chave', notas[discente])"
   ]
  },
  {
   "cell_type": "code",
   "execution_count": null,
   "metadata": {},
   "outputs": [],
   "source": [
    "for discente in notas:\n",
    "    print(discente)\n",
    "    print(type(discente))\n",
    "    print('Agora com a chave', notas[discente])"
   ]
  },
  {
   "cell_type": "markdown",
   "metadata": {},
   "source": [
    "### Tratando os dados do Dicionário"
   ]
  },
  {
   "cell_type": "code",
   "execution_count": 107,
   "metadata": {},
   "outputs": [
    {
     "name": "stdout",
     "output_type": "stream",
     "text": [
      "joao [80, 75, 85, 90] 82.5\n",
      "jose [80, 72, 82, 92] 81.5\n",
      "maria [80, 90, 89, 90] 87.25\n",
      "{'joao': 82.5, 'jose': 81.5, 'maria': 87.25}\n"
     ]
    }
   ],
   "source": [
    "medias = {}\n",
    "for discente in notas:\n",
    "    nota = notas[discente]\n",
    "    n = len(nota)\n",
    "    media = sum(nota)/n\n",
    "    print(discente, nota, media)\n",
    "    medias[discente] = media\n",
    "print(medias)"
   ]
  },
  {
   "cell_type": "markdown",
   "metadata": {},
   "source": [
    "### Melhorando nosso código"
   ]
  },
  {
   "cell_type": "code",
   "execution_count": 109,
   "metadata": {},
   "outputs": [
    {
     "name": "stdout",
     "output_type": "stream",
     "text": [
      "8.714285714285714\n"
     ]
    }
   ],
   "source": [
    "def calcula_media(notas):\n",
    "    n = len(notas)\n",
    "    media = sum(notas)/n\n",
    "    return media\n",
    "    \n",
    "## Testando a funcao\n",
    "minhas_notas = [10, 9,8, 8, 8, 9, 9 ]\n",
    "print(calcula_media(minhas_notas))"
   ]
  },
  {
   "cell_type": "code",
   "execution_count": 113,
   "metadata": {},
   "outputs": [
    {
     "name": "stdout",
     "output_type": "stream",
     "text": [
      "joao [80, 75, 85, 90] 82.5\n",
      "jose [80, 72, 82, 92] 81.5\n",
      "maria [80, 90, 89, 90] 87.25\n",
      "{'joao': 82.5, 'jose': 81.5, 'maria': 87.25}\n"
     ]
    }
   ],
   "source": [
    "# Reescrevendo a função\n",
    "\n",
    "medias = {}\n",
    "for discente, nota in notas.items():\n",
    "    media = calcula_media(nota)\n",
    "    print(discente, nota, media)\n",
    "    medias[discente] = media\n",
    "print(medias)"
   ]
  },
  {
   "cell_type": "code",
   "execution_count": 125,
   "metadata": {},
   "outputs": [],
   "source": [
    "def fecha_notas(alunos):\n",
    "    medias = {}\n",
    "    for discente, nota in alunos.items():\n",
    "        medias[discente] = calcula_media(nota)\n",
    "    return medias\n",
    "\n"
   ]
  },
  {
   "cell_type": "code",
   "execution_count": 126,
   "metadata": {},
   "outputs": [
    {
     "data": {
      "text/plain": [
       "{'joao': 82.5, 'jose': 81.5, 'maria': 87.25}"
      ]
     },
     "execution_count": 126,
     "metadata": {},
     "output_type": "execute_result"
    }
   ],
   "source": [
    "fecha_notas(notas)"
   ]
  },
  {
   "cell_type": "code",
   "execution_count": 127,
   "metadata": {},
   "outputs": [
    {
     "name": "stdout",
     "output_type": "stream",
     "text": [
      "{'joao': [80, 75, 85, 90], 'jose': [80, 72, 82, 92], 'maria': [80, 90, 89, 90]}\n",
      "{'joao': 82.5, 'jose': 81.5, 'maria': 87.25}\n"
     ]
    }
   ],
   "source": [
    "## Usando a função\n",
    "print(notas)\n",
    "minhas_medias = fecha_notas(notas)\n",
    "print(minhas_medias)"
   ]
  },
  {
   "cell_type": "code",
   "execution_count": 128,
   "metadata": {},
   "outputs": [],
   "source": [
    "## Gravando as notas e as medias\n",
    "\n",
    "notas_arquivo = open('files/data/notas_da_turma.txt', 'w')\n",
    " \n",
    "for k,v in notas.items():\n",
    "    notas_arquivo.write(str(k)+','+str(v)+'\\n')\n",
    "\n",
    "notas_arquivo.close()\n"
   ]
  },
  {
   "cell_type": "code",
   "execution_count": 131,
   "metadata": {},
   "outputs": [
    {
     "name": "stdout",
     "output_type": "stream",
     "text": [
      "<class '_io.TextIOWrapper'>\n",
      "['joao,[80, 75, 85, 90]\\n', 'jose,[80, 72, 82, 92]\\n', 'maria,[80, 90, 89, 90]\\n']\n",
      "<class 'list'>\n"
     ]
    }
   ],
   "source": [
    "## Gravando as notas e as medias\n",
    "\n",
    "notas_arquivo_r = open('files/data/notas_da_turma.txt', 'r')\n",
    " \n",
    "print(type(notas_arquivo_r)) \n",
    "\n",
    "novas_notas = notas_arquivo_r.readlines()\n",
    "\n",
    "print(novas_notas)\n",
    "print(type(novas_notas))\n",
    "notas_arquivo.close()\n"
   ]
  }
 ],
 "metadata": {
  "kernelspec": {
   "display_name": "Python 3 (ipykernel)",
   "language": "python",
   "name": "python3"
  },
  "language_info": {
   "codemirror_mode": {
    "name": "ipython",
    "version": 3
   },
   "file_extension": ".py",
   "mimetype": "text/x-python",
   "name": "python",
   "nbconvert_exporter": "python",
   "pygments_lexer": "ipython3",
   "version": "3.10.6"
  },
  "vscode": {
   "interpreter": {
    "hash": "916dbcbb3f70747c44a77c7bcd40155683ae19c65e1c03b4aa3499c5328201f1"
   }
  }
 },
 "nbformat": 4,
 "nbformat_minor": 4
}
