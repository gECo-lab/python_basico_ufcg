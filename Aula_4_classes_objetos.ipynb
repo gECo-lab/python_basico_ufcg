{
 "cells": [
  {
   "cell_type": "markdown",
   "metadata": {},
   "source": [
    "<img src=\"files/figs/logo_ufcg.png\" width=150 align=\"right\"/>   <H1> Python Básico (para economistas) <H1/> <H5> Sérgio Rivero<H5/> Economia CH-UFCG"
   ]
  },
  {
   "attachments": {},
   "cell_type": "markdown",
   "metadata": {},
   "source": [
    "# Classes e Objetos\n",
    "  "
   ]
  },
  {
   "attachments": {},
   "cell_type": "markdown",
   "metadata": {},
   "source": [
    "Inicialmente vamos **declarar** uma classe retângulo"
   ]
  },
  {
   "cell_type": "code",
   "execution_count": null,
   "metadata": {},
   "outputs": [],
   "source": [
    "class Retangulo0:\n",
    "    \"\"\"Representa um retângulo\n",
    "     atributos: altura, largura, canto \"\"\""
   ]
  },
  {
   "cell_type": "code",
   "execution_count": null,
   "metadata": {},
   "outputs": [],
   "source": [
    "type(Retangulo0)"
   ]
  },
  {
   "cell_type": "code",
   "execution_count": null,
   "metadata": {},
   "outputs": [],
   "source": [
    "## Criando um retângulo\n",
    "\n",
    "caixa0 = Retangulo0()\n",
    "caixa0.largura = 200.0 \n",
    "caixa0.altura = 100.0\n",
    "\n",
    "type(caixa0)"
   ]
  },
  {
   "cell_type": "code",
   "execution_count": null,
   "metadata": {},
   "outputs": [],
   "source": [
    "dir(caixa0)"
   ]
  },
  {
   "cell_type": "code",
   "execution_count": null,
   "metadata": {},
   "outputs": [],
   "source": [
    "print(caixa0.altura, caixa0.largura)"
   ]
  },
  {
   "cell_type": "code",
   "execution_count": null,
   "metadata": {},
   "outputs": [],
   "source": [
    "class Retangulo:\n",
    "    \"\"\" Este é um retângulo com vários atributos e métodos\"\"\"\n",
    "    def __init__(self, altura, largura) -> None:\n",
    "        self.altura = altura\n",
    "        self.largura = largura"
   ]
  },
  {
   "cell_type": "code",
   "execution_count": null,
   "metadata": {},
   "outputs": [],
   "source": [
    "caixa = Retangulo(100.0,200.0)\n",
    "\n",
    "quadrado = Retangulo(100.0, 100.0)\n",
    "\n",
    "print(type(caixa))\n",
    "print(type(quadrado))\n"
   ]
  },
  {
   "cell_type": "code",
   "execution_count": null,
   "metadata": {},
   "outputs": [],
   "source": [
    "\n",
    "print('Altura: ',caixa.altura)\n",
    "print('Largura: ',caixa.largura)\n",
    "\n",
    "print('Altura: ',quadrado.altura)\n",
    "print('Largura: ',quadrado.largura)"
   ]
  },
  {
   "cell_type": "code",
   "execution_count": null,
   "metadata": {},
   "outputs": [],
   "source": [
    "figuras = { 'caixa': caixa, 'quadrado': quadrado}\n",
    "\n",
    "print(figuras)"
   ]
  },
  {
   "cell_type": "code",
   "execution_count": null,
   "metadata": {},
   "outputs": [],
   "source": [
    "print(figuras['caixa'].largura)\n",
    "print(figuras['quadrado'].largura)"
   ]
  },
  {
   "cell_type": "code",
   "execution_count": null,
   "metadata": {},
   "outputs": [],
   "source": [
    "for chave,objeto in figuras.items():\n",
    "    print('Meu ', chave, 'tem altura = ', objeto.altura, 'e largura ', objeto.largura)"
   ]
  },
  {
   "attachments": {},
   "cell_type": "markdown",
   "metadata": {},
   "source": [
    "## Redefinindo a nossa classe"
   ]
  },
  {
   "cell_type": "code",
   "execution_count": 103,
   "metadata": {},
   "outputs": [],
   "source": [
    "class Retangulo:\n",
    "    \"\"\" Este é um retângulo com vários atributos e métodos\"\"\"\n",
    "    def __init__(self, altura, largura, canto) -> None:\n",
    "        \"\"\" Inicialização da classe \"\"\"\n",
    "\n",
    "        if type(altura) == int or type(altura) == float:\n",
    "            self.altura = altura\n",
    "        else:\n",
    "            raise Exception(\"altura deve ser numérica\")\n",
    "        \n",
    "        if type(largura) == int or type(largura) == float:\n",
    "            self.largura = largura\n",
    "        else:\n",
    "            raise Exception(\"largura deve ser numérica\")\n",
    "\n",
    "        if isinstance(canto, Ponto):\n",
    "            self.canto = canto\n",
    "        else:\n",
    "            raise Exception(\"canto deve ser do tipo Ponto\")\n",
    "\n",
    "    def area(self):\n",
    "        return self.altura * self.largura\n",
    "    \n",
    "    def mostra_canto(self):\n",
    "        print('x =', self.canto.x, 'y =', self.canto.y )\n",
    "        return (self.canto.x,self.canto.y)\n",
    "    \n",
    "    def canto1(self):\n",
    "        \"\"\" Devolve o primeiro canto\"\"\"\n",
    "        return (self.canto.x,self.canto.y) \n",
    "    \n",
    "    def canto2(self):\n",
    "        \"\"\" Devolve o primeiro canto\"\"\"\n",
    "        x2 = self.canto.x + self.largura\n",
    "        y2 = self.canto.y \n",
    "        return (x2,y2) \n",
    "\n",
    "    def canto3(self):\n",
    "        \"\"\" Devolve o primeiro canto\"\"\"\n",
    "        x3 = self.canto.x \n",
    "        y3 = self.canto.y - self.altura\n",
    "        return (x3,y3) \n",
    "\n",
    "    def canto4(self):\n",
    "        \"\"\" Devolve o primeiro canto\"\"\"\n",
    "        x4 = self.canto.x + self.largura\n",
    "        y4 = self.canto.y - self.altura\n",
    "        return (x4,y4) \n",
    "\n",
    "\n",
    "class Ponto:\n",
    "    \"\"\" Este é um ponto\"\"\"\n",
    "    def __init__(self, x,y) -> None:\n",
    "        self.x = x\n",
    "        self.y = y"
   ]
  },
  {
   "cell_type": "code",
   "execution_count": 106,
   "metadata": {},
   "outputs": [
    {
     "name": "stdout",
     "output_type": "stream",
     "text": [
      "3\n",
      "x = 2 y = 2\n",
      "(2, 2)\n",
      "(5, 2)\n",
      "(2, 1)\n",
      "(5, 1)\n"
     ]
    }
   ],
   "source": [
    "ponto1 = Ponto(2,2)\n",
    "caixa1 = Retangulo(1, 3, ponto1)\n",
    "print(caixa1.area())\n",
    "\n",
    "\n",
    "caixa1.mostra_canto()\n",
    "print(caixa1.canto1())\n",
    "print(caixa1.canto2())\n",
    "print(caixa1.canto3())\n",
    "print(caixa1.canto4())"
   ]
  },
  {
   "attachments": {},
   "cell_type": "markdown",
   "metadata": {},
   "source": [
    "## Agora vamos definir um quadrado"
   ]
  },
  {
   "cell_type": "code",
   "execution_count": 111,
   "metadata": {},
   "outputs": [],
   "source": [
    "class Quadrado(Retangulo):\n",
    "    \"\"\" Um Quadrado é uma retângulo \n",
    "        Que tem w = h\n",
    "    \"\"\"\n",
    "\n",
    "    def __init__(self, altura, largura, canto) -> None:\n",
    "        super().__init__(altura, largura, canto)\n",
    "        if altura != largura:\n",
    "            raise Exception('Um quadrado tem altura = largura')"
   ]
  },
  {
   "cell_type": "code",
   "execution_count": 114,
   "metadata": {},
   "outputs": [
    {
     "name": "stdout",
     "output_type": "stream",
     "text": [
      "(0, 0)\n",
      "(3, 0)\n",
      "(0, -3)\n",
      "(3, -3)\n",
      "9\n"
     ]
    }
   ],
   "source": [
    "p1 = Ponto(0,0)\n",
    "Q = Quadrado(3,3, p1)\n",
    "\n",
    "print(Q.canto1())\n",
    "print(Q.canto2())\n",
    "print(Q.canto3())\n",
    "print(Q.canto4())\n",
    "print(Q.area())"
   ]
  },
  {
   "cell_type": "code",
   "execution_count": 116,
   "metadata": {},
   "outputs": [
    {
     "data": {
      "image/png": "[encoded data removed]",
      "text/plain": [
       "<Figure size 432x288 with 1 Axes>"
      ]
     },
     "metadata": {
      "needs_background": "light"
     },
     "output_type": "display_data"
    }
   ],
   "source": [
    "import matplotlib.pyplot as plt\n",
    "plt.axes()\n",
    "line = plt.Line2D((2, 8), (2, 8), lw=1.5)\n",
    "plt.gca().add_line(line)\n",
    "plt.axis('scaled')\n",
    "plt.show()\n"
   ]
  },
  {
   "cell_type": "code",
   "execution_count": 124,
   "metadata": {},
   "outputs": [
    {
     "data": {
      "image/png": "[encoded data removed]",
      "text/plain": [
       "<Figure size 144x144 with 1 Axes>"
      ]
     },
     "metadata": {
      "needs_background": "light"
     },
     "output_type": "display_data"
    }
   ],
   "source": [
    "import matplotlib.pyplot as plt\n",
    "import numpy as np\n",
    "\n",
    "plt.style.use('_mpl-gallery-nogrid')\n",
    "\n",
    "\n",
    "# make data\n",
    "x = [1, 2, 3, 4]\n",
    "colors = plt.get_cmap('Blues')(np.linspace(0.2, 0.7, len(x)))\n",
    "\n",
    "# plot\n",
    "fig, ax = plt.subplots()\n",
    "ax.pie(x, colors=colors, radius=5, center=(4, 4),\n",
    "       wedgeprops={\"linewidth\": 1, \"edgecolor\": \"white\"}, frame=True)\n",
    "\n",
    "ax.set(xlim=(0, 8), xticks=np.arange(1, 15),\n",
    "       ylim=(0, 8), yticks=np.arange(1, 15))\n",
    "\n",
    "plt.show()"
   ]
  },
  {
   "cell_type": "code",
   "execution_count": 130,
   "metadata": {},
   "outputs": [
    {
     "data": {
      "image/png": "[encoded data removed]",
      "text/plain": [
       "<Figure size 144x144 with 1 Axes>"
      ]
     },
     "metadata": {
      "needs_background": "light"
     },
     "output_type": "display_data"
    }
   ],
   "source": [
    "import matplotlib.pyplot as plt\n",
    "import numpy as np\n",
    "\n",
    "plt.style.use('_mpl-gallery')\n",
    "\n",
    "# make data\n",
    "np.random.seed(1)\n",
    "x = 4 + np.random.normal(0, 1.5, 1700)\n",
    "\n",
    "# plot:\n",
    "fig, ax = plt.subplots()\n",
    "\n",
    "ax.hist(x, bins=150, linewidth=0.5, edgecolor=\"white\")\n",
    "\n",
    "ax.set(xlim=(0, 8), xticks=np.arange(1, 8),\n",
    "       ylim=(0, 56), yticks=np.linspace(0, 56, 9))\n",
    "\n",
    "plt.show()"
   ]
  },
  {
   "cell_type": "markdown",
   "metadata": {},
   "source": []
  }
 ],
 "metadata": {
  "kernelspec": {
   "display_name": "Python 3 (ipykernel)",
   "language": "python",
   "name": "python3"
  },
  "language_info": {
   "codemirror_mode": {
    "name": "ipython",
    "version": 3
   },
   "file_extension": ".py",
   "mimetype": "text/x-python",
   "name": "python",
   "nbconvert_exporter": "python",
   "pygments_lexer": "ipython3",
   "version": "3.10.6"
  },
  "vscode": {
   "interpreter": {
    "hash": "916dbcbb3f70747c44a77c7bcd40155683ae19c65e1c03b4aa3499c5328201f1"
   }
  }
 },
 "nbformat": 4,
 "nbformat_minor": 4
}
