{
 "cells": [
  {
   "cell_type": "markdown",
   "metadata": {},
   "source": [
    "<img src=\"files/figs/logo_ufcg.png\" width=150 align=\"right\"/>   <H1> Python Básico (para economistas) <H1/> <H5> Sérgio Rivero<H5/> Economia CH-UFCG"
   ]
  },
  {
   "cell_type": "markdown",
   "metadata": {},
   "source": [
    "# Apresentação do Curso\n",
    "\n",
    "Iniciamos nosso curso de programação em *Python*, utilizaremos, para este curso, uma ferramenta muito comum na produção de resultados em python, chamada *Jupyter Lab*. Esta ferramenta pode ser encontrada em https://jupyter.org/.\n",
    "\n",
    "O programa um pouco mais detalhado do curso pode ser encontrado [aqui.](files/pdfs/Programa_IntroPy_2022-2_basico.pdf)\n",
    "\n",
    "## Agenda do Curso\n",
    "\n",
    "Aqui temos a agenda do curso juntamente com as unidades e assuntos que serão abordados em cada encontro.\n",
    "\n",
    "\n",
    "| Encontro | Assunto | Unidade/Assunto | \n",
    "|------|---------|-----------------|\n",
    "|  1  |  Introdução - a linguagem e as ferramentas  |  1.a a 1.d|   \n",
    "|  2  |  Atribuição, Expressões, Condição |  2.a, 2.b, 2.c|    \n",
    "|  3  |  Iteração, Estruturas, Bibliotecas  |  2.d, 2.e, 2.f | \n",
    "|  4  |  Pandas e Dados  |  3.a, 3.b|\n",
    "|  5  |  Limpando e Visualizando dados  |  3.a, 3.b|  \n",
    "|  6  |  Modelando   |  3.e| \n",
    "\n",
    "\n",
    "\n",
    "## Material disponível na internet\n",
    "\n",
    " \n",
    "- Aqui você vai encontrar os fontes dos python e uma farta documnentação sobre a linguagem: \n",
    "<https://www.python.org/>\n",
    "\n",
    "- Aqui você vai encontrar os fontes, apps e material do projeto *Jupyter*, que usaremos no curso: \n",
    "  <https://jupyter.org/>\n",
    "\n",
    "- Um livro interessante sobre material didático em python: <https://jupyter4edu.github.io/jupyter-edu-book/>\n",
    "\n",
    "- Aqui a documentação do *Jupyter Notebook*: <https://docs.jupyter.org/en/latest/index.html>\n",
    "\n",
    "\n",
    "## Livros utilizados na disciplina\n",
    "\n",
    "Baseamos a disciplina nos seguintes livros:\n",
    "\n",
    "DOWNEY, A. B. **Pense em Python: Pense como um cientista da computação.** Novatec Editora,\n",
    "2019. ISBN 9788575227503. Disponível em: <https://www.ebook.de/de/product/36445607/allen\\_b\\_downey\\_pense\\_em\\_python.html>.\n",
    "\n",
    "\n",
    "MCKINNEY, W. **Python para análise de dados: tratamento de dados com pandas, numpy e ipython.** Novatec Editora, 2019. Disponível em: <https://www.ebook.de/de/product/36774507/wes\\_mckinney\\_python\\_para\\_analise\\_de\\_dados.html>.\n",
    "\n",
    "\n",
    "\n",
    "Uma boa parte do nosso curso será baseado no livro de Downey (2019)\n",
    "\n",
    "\n"
   ]
  },
  {
   "attachments": {},
   "cell_type": "markdown",
   "metadata": {},
   "source": [
    "# Introdução: A linguagem *Python* e suas ferramentas\n"
   ]
  },
  {
   "attachments": {},
   "cell_type": "markdown",
   "metadata": {},
   "source": [
    "\n",
    "\n",
    "## O que é um programa?\n",
    "\n",
    "Um programa é uma sequência de instruções que especifica como executar uma operação de computação.\n",
    "\n",
    "Em quase todas as linguagens há algumas operações que são comuns:\n",
    "\n",
    "* *Entrada:* Receber dados do teclado, de um arquivo, da rede ou de outro dispositivo\n",
    "* *Saída:* Exibir dados na tela, salvá-los em um arquivo, enviá-los pela rede\n",
    "* *Operações Matemáticas:* Executar operações matemáticas básicas (adição, subtração, multiplicação, divisão, etc)\n",
    "* *Execução Condicional:* Checar a existência de uma (ou mais) condições (respondendo verdadeiro ou falso) e executar o código adequado.\n",
    "* *Repetição:*  Executar várias vezes um *bloco de código* (eventualmente com algumas variações)\n"
   ]
  },
  {
   "attachments": {},
   "cell_type": "markdown",
   "metadata": {},
   "source": [
    "\n",
    "\n",
    "## Baixando e executando o Python\n",
    "\n",
    "Podemos encontrar muita informação básica sobre o *Python* no site da linguagem (https://www.python.org/). \n",
    "\n",
    "Aí você poderá encontrar a última versão da linguagem disponível (em *Downloads*) que execute no sistema operacional de seu computador.\n",
    "\n",
    "Há duas versões do *Python* (*Python* 2 e *Python* 3). Neste curso usaremos o *Python* 3.\n",
    "\n",
    "Para executar o interpretador python em modo interativo, você deve abrir uma console no seu sistema operacional e digitar o comando *python*. Com isso, você terá o interpretador disponível:\n",
    "\n",
    "<img src=\"files/figs/python_console.png\" align=\"center\"/>\n",
    "\n",
    "Acima, as três primeiras linhas na console contém informações sobre o interpretador (versão, sistema operacional). A linha com os sinais **>>>** é o *prompt* de comandos. \n",
    "\n",
    "A interação no *Python* é diferente de outros programas que você está acostumado, parece mais com um aplicativo de mensagens. O processo de interação é:\n",
    "1. Você escreve um comando\n",
    "2. Aperta *\\<enter\\>* \n",
    "3. O interpretador executa seu comando\n",
    "4. O interpetador mostra a resposta da execução (quando seu comando é uma *expressão* ou uma *instrução* que gera uma saída na console).\n",
    "5. Caso haja algum erro no seu comando, o interpretador mostra uma mensagem indicando qual é o erro.\n",
    "\n"
   ]
  },
  {
   "attachments": {},
   "cell_type": "markdown",
   "metadata": {},
   "source": [
    "## Jupyter Notebook e Jupyter Labs\n",
    "\n",
    "No nosso curso utilizaremos uma ferramenta de código aberto chamada *Jupyter* (https://jupyter.org/about). Mais especificamente, usaremos uma ferramenta chamada *JupyterLab*.\n",
    "\n",
    "Para isso, depois de instalado o *Python*, pode-se baixar o *JupyterLab* utilizando o comando *pip* da seguinte maneira. O *pip* \n"
   ]
  },
  {
   "attachments": {},
   "cell_type": "markdown",
   "metadata": {},
   "source": [
    "**pip install jupyterlab**"
   ]
  },
  {
   "attachments": {},
   "cell_type": "markdown",
   "metadata": {},
   "source": [
    "A partir da instalação, a execução do *JupyterLab* é feita chamando o comando diretamente da console:"
   ]
  },
  {
   "attachments": {},
   "cell_type": "markdown",
   "metadata": {},
   "source": [
    "**jupyter-lab**"
   ]
  },
  {
   "attachments": {},
   "cell_type": "markdown",
   "metadata": {},
   "source": [
    "## O primeiro programa (Downey, p 27)\n",
    "\n",
    "Tradicionalmente, o primeiro programa que se escreve em uma nova linguagem chama-se “Hello, World!”, porque tudo o que faz é exibir as palavras “Hello, World!” na tela. No Python, ele se parece com isto:\n"
   ]
  },
  {
   "cell_type": "code",
   "execution_count": 14,
   "metadata": {},
   "outputs": [
    {
     "name": "stdout",
     "output_type": "stream",
     "text": [
      "Hello, World!\n"
     ]
    }
   ],
   "source": [
    "print('Hello, World!')"
   ]
  },
  {
   "attachments": {},
   "cell_type": "markdown",
   "metadata": {},
   "source": [
    "Este é um exemplo de uma instrução print (instrução de impressão), embora na realidade ela não imprima nada em papel. Ela exibe um resultado na tela. Nesse caso, o resultado são as palavras:\n",
    "\n",
    "Hello, World!\n",
    "\n",
    "As aspas apenas marcam o começo e o fim do texto a ser exibido; elas não aparecem no resultado.\n",
    "\n",
    "Os parênteses indicam que o print é uma função. Veremos funções mais à frente.\n"
   ]
  },
  {
   "attachments": {},
   "cell_type": "markdown",
   "metadata": {},
   "source": [
    "## Operadores aritméticos (Downey, p. 28)\n",
    "\n",
    "Operadores aritméticos do *Python* têm virtualmente a mesma funcionalidade que em outras linguagens. \n",
    "\n",
    "\n",
    "Os operadores:\n",
    "\n",
    "   * \\+ e - executam operações de adição e subtração, \n",
    "   * \\* e / executam as operações de multiplicação e divisão e, finalmente \n",
    "   * ** executa as operações de exponenciação. "
   ]
  },
  {
   "cell_type": "code",
   "execution_count": 15,
   "metadata": {},
   "outputs": [
    {
     "data": {
      "text/plain": [
       "42"
      ]
     },
     "execution_count": 15,
     "metadata": {},
     "output_type": "execute_result"
    }
   ],
   "source": [
    "40 + 2"
   ]
  },
  {
   "cell_type": "code",
   "execution_count": 16,
   "metadata": {},
   "outputs": [
    {
     "data": {
      "text/plain": [
       "42"
      ]
     },
     "execution_count": 16,
     "metadata": {},
     "output_type": "execute_result"
    }
   ],
   "source": [
    "43 - 1"
   ]
  },
  {
   "cell_type": "code",
   "execution_count": 17,
   "metadata": {},
   "outputs": [
    {
     "data": {
      "text/plain": [
       "42"
      ]
     },
     "execution_count": 17,
     "metadata": {},
     "output_type": "execute_result"
    }
   ],
   "source": [
    "6 * 7"
   ]
  },
  {
   "cell_type": "code",
   "execution_count": 18,
   "metadata": {},
   "outputs": [
    {
     "data": {
      "text/plain": [
       "42.0"
      ]
     },
     "execution_count": 18,
     "metadata": {},
     "output_type": "execute_result"
    }
   ],
   "source": [
    "84/2"
   ]
  },
  {
   "cell_type": "code",
   "execution_count": 19,
   "metadata": {},
   "outputs": [
    {
     "data": {
      "text/plain": [
       "42"
      ]
     },
     "execution_count": 19,
     "metadata": {},
     "output_type": "execute_result"
    }
   ],
   "source": [
    "6 ** 2 + 6"
   ]
  },
  {
   "attachments": {},
   "cell_type": "markdown",
   "metadata": {},
   "source": [
    "## Valores e Tipos (Downey)\n",
    "\n",
    "Uma operação muito importante em uma linguagem de computação é a **atribuição de valor**. Nesta operação o interpretador (no caso do *Python*) aloca um espaço na memória do computador e armazena o valor que vai ser atribuído, neste espaço.\n",
    " \n",
    "No *Python* as operações de atribuição são representadas com um sinal de **'='**\n",
    "\n",
    "Dependendo do tipo do valor que está cendo atribuído, temos diferentes *tipos*. Tipos são os formatos e representações que assumem estes valores quando são armazenados na memória.\n",
    "\n",
    "Em algumas linguagens, chamadas tipadas, você deve obrigatoriamente declarar o tipo da variável quando da sua definição. No caso do *Python*, o tipo é determinado na hora da atribuição.\n"
   ]
  }
 ],
 "metadata": {
  "kernelspec": {
   "display_name": "Python 3 (ipykernel)",
   "language": "python",
   "name": "python3"
  },
  "language_info": {
   "codemirror_mode": {
    "name": "ipython",
    "version": 3
   },
   "file_extension": ".py",
   "mimetype": "text/x-python",
   "name": "python",
   "nbconvert_exporter": "python",
   "pygments_lexer": "ipython3",
   "version": "3.10.6 (main, Nov  2 2022, 18:53:38) [GCC 11.3.0]"
  },
  "vscode": {
   "interpreter": {
    "hash": "916dbcbb3f70747c44a77c7bcd40155683ae19c65e1c03b4aa3499c5328201f1"
   }
  }
 },
 "nbformat": 4,
 "nbformat_minor": 4
}
